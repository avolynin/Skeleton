{
 "cells": [
  {
   "cell_type": "code",
   "execution_count": 1,
   "metadata": {},
   "outputs": [],
   "source": [
    "import torchvision\n",
    "import torch\n",
    "from torchvision import transforms as T\n",
    "from PIL import Image"
   ]
  },
  {
   "cell_type": "code",
   "execution_count": 2,
   "metadata": {},
   "outputs": [
    {
     "name": "stdout",
     "output_type": "stream",
     "text": [
      "1.10.1\n"
     ]
    }
   ],
   "source": [
    "print(torch.__version__)"
   ]
  },
  {
   "cell_type": "code",
   "execution_count": 3,
   "metadata": {},
   "outputs": [],
   "source": [
    "model = torchvision.models.detection.keypointrcnn_resnet50_fpn(pretrained=True)\n",
    "model.eval()\n",
    "\n",
    "# create the list of keypoints.\n",
    "keypoints = ['nose','left_eye','right_eye',\\\n",
    "'left_ear','right_ear','left_shoulder',\\\n",
    "'right_shoulder','left_elbow','right_elbow',\\\n",
    "'left_wrist','right_wrist','left_hip',\\\n",
    "'right_hip','left_knee', 'right_knee', \\\n",
    "'left_ankle','right_ankle']"
   ]
  },
  {
   "cell_type": "code",
   "execution_count": 4,
   "metadata": {},
   "outputs": [
    {
     "name": "stderr",
     "output_type": "stream",
     "text": [
      "D:\\Users\\Camputer\\anaconda3\\envs\\skeleton-env\\lib\\site-packages\\torch\\functional.py:445: UserWarning: torch.meshgrid: in an upcoming release, it will be required to pass the indexing argument. (Triggered internally at  ..\\aten\\src\\ATen\\native\\TensorShape.cpp:2157.)\n",
      "  return _VF.meshgrid(tensors, **kwargs)  # type: ignore[attr-defined]\n"
     ]
    }
   ],
   "source": [
    "img_path =r\"D:\\Users\\Camputer\\source\\repos\\Skeleton\\src\\dataset\\test\\steth.jpg\"\n",
    "img = Image.open(img_path)\n",
    "\n",
    "transform = T.Compose([T.ToTensor()])\n",
    "img_tensor = transform(img)\n",
    "\n",
    "output = model([img_tensor])[0]"
   ]
  },
  {
   "cell_type": "code",
   "execution_count": 5,
   "metadata": {},
   "outputs": [],
   "source": [
    "import matplotlib.pyplot as plt\n",
    "import numpy as np\n",
    "from PIL import ImageDraw\n",
    "\n",
    "def draw_keypoints_per_person(img, all_keypoints, all_scores, confs, keypoint_threshold=2, conf_threshold=0.9):\n",
    "  # initialize a set of colors from the rainbow spectrum\n",
    "  cmap = plt.get_cmap('rainbow')\n",
    "  # create a copy of the image\n",
    "  img_copy = img.copy()\n",
    "  # pick a set of N color-ids from the spectrum\n",
    "  color_id = np.arange(1,255, 255//len(all_keypoints)).tolist()[::-1]\n",
    "  # iterate for every person detected\n",
    "  for person_id in range(len(all_keypoints)):\n",
    "    # check the confidence score of the detected person\n",
    "    if confs[person_id]>conf_threshold:\n",
    "      # grab the keypoint-locations for the detected person\n",
    "      keypoints = all_keypoints[person_id, ...]\n",
    "      # grab the keypoint-scores for the keypoints\n",
    "      scores = all_scores[person_id, ...]\n",
    "      # iterate for every keypoint-score\n",
    "      for kp in range(len(scores)):\n",
    "        # check the confidence score of detected keypoint\n",
    "        if scores[kp]>keypoint_threshold:\n",
    "          # convert the keypoint float-array to a python-list of integers\n",
    "          keypoint = tuple(map(int, keypoints[kp, :2].detach().numpy().tolist()))\n",
    "          # pick the color at the specific color-id\n",
    "          color = tuple(np.asarray(cmap(color_id[person_id])[:-1])*255)\n",
    "          # draw a circle over the keypoint location\n",
    "          draw = ImageDraw.Draw(img_copy)\n",
    "          x, y = tuple(p-s for p, s in zip(keypoint, (3, 3)))\n",
    "          w, h = tuple(sum(i) for i in zip(keypoint, (3, 3)))\n",
    "          shape = [(x, y), (w, h)]\n",
    "          print(shape)\n",
    "          draw.ellipse(shape, fill =\"black\", outline=\"black\")\n",
    "          draw.point(keypoint)\n",
    "          #cv2.circle(img_copy, keypoint, 5, color, -1)\n",
    "\n",
    "  return img_copy"
   ]
  },
  {
   "cell_type": "code",
   "execution_count": 7,
   "metadata": {},
   "outputs": [
    {
     "name": "stdout",
     "output_type": "stream",
     "text": [
      "[(489, 124), (495, 130)]\n",
      "[(514, 98), (520, 104)]\n",
      "[(466, 99), (472, 105)]\n",
      "[(554, 103), (560, 109)]\n",
      "[(431, 117), (437, 123)]\n",
      "[(638, 285), (644, 291)]\n",
      "[(344, 278), (350, 284)]\n",
      "[(680, 503), (686, 509)]\n",
      "[(279, 500), (285, 506)]\n",
      "[(666, 659), (672, 665)]\n",
      "[(308, 638), (314, 644)]\n",
      "[(582, 712), (588, 718)]\n",
      "[(392, 708), (398, 714)]\n",
      "[(617, 1034), (623, 1040)]\n",
      "[(324, 1013), (330, 1019)]\n",
      "[(654, 1316), (660, 1322)]\n",
      "[(273, 1298), (279, 1304)]\n"
     ]
    }
   ],
   "source": [
    "keypoints_img = draw_keypoints_per_person(img, output[\"keypoints\"], output[\"keypoints_scores\"], output[\"scores\"], keypoint_threshold=2)\n",
    "keypoints_img.show()"
   ]
  },
  {
   "cell_type": "code",
   "execution_count": 10,
   "metadata": {},
   "outputs": [],
   "source": [
    "def get_limbs_from_keypoints(keypoints):\n",
    "  limbs = [       \n",
    "    [keypoints.index('right_eye'), keypoints.index('nose')],\n",
    "    [keypoints.index('right_eye'), keypoints.index('right_ear')],\n",
    "    [keypoints.index('left_eye'), keypoints.index('nose')],\n",
    "    [keypoints.index('left_eye'), keypoints.index('left_ear')],\n",
    "    [keypoints.index('right_shoulder'), keypoints.index('right_elbow')],\n",
    "    [keypoints.index('right_elbow'), keypoints.index('right_wrist')],\n",
    "    [keypoints.index('left_shoulder'), keypoints.index('left_elbow')],\n",
    "    [keypoints.index('left_elbow'), keypoints.index('left_wrist')],\n",
    "    [keypoints.index('right_hip'), keypoints.index('right_knee')],\n",
    "    [keypoints.index('right_knee'), keypoints.index('right_ankle')],\n",
    "    [keypoints.index('left_hip'), keypoints.index('left_knee')],\n",
    "    [keypoints.index('left_knee'), keypoints.index('left_ankle')],\n",
    "    [keypoints.index('right_shoulder'), keypoints.index('left_shoulder')],\n",
    "    [keypoints.index('right_hip'), keypoints.index('left_hip')],\n",
    "    [keypoints.index('right_shoulder'), keypoints.index('right_hip')],\n",
    "    [keypoints.index('left_shoulder'), keypoints.index('left_hip')]\n",
    "    ]\n",
    "  return limbs\n",
    "\n",
    "limbs = get_limbs_from_keypoints(keypoints)"
   ]
  },
  {
   "cell_type": "code",
   "execution_count": 9,
   "metadata": {},
   "outputs": [],
   "source": [
    "def draw_skeleton_per_person(img, all_keypoints, all_scores, confs, keypoint_threshold=2, conf_threshold=0.9):\n",
    "    # initialize a set of colors from the rainbow spectrum\n",
    "    cmap = plt.get_cmap('rainbow')\n",
    "    # create a copy of the image\n",
    "    img_copy = img.copy()\n",
    "    # check if the keypoints are detected\n",
    "    if len(output[\"keypoints\"])>0:\n",
    "        # pick a set of N color-ids from the spectrum\n",
    "        colors = np.arange(1,255, 255//len(all_keypoints)).tolist()[::-1]\n",
    "        # iterate for every person detected\n",
    "        for person_id in range(len(all_keypoints)):\n",
    "            # check the confidence score of the detected person\n",
    "            if confs[person_id]>conf_threshold:\n",
    "            # grab the keypoint-locations for the detected person\n",
    "                keypoints = all_keypoints[person_id, ...]\n",
    "\n",
    "            # iterate for every limb \n",
    "            for limb_id in range(len(limbs)):\n",
    "                # pick the start-point of the limb\n",
    "                limb_loc1 = keypoints[limbs[limb_id][0], :2].detach().numpy().astype(np.int32)\n",
    "                # pick the start-point of the limb\n",
    "                limb_loc2 = keypoints[limbs[limb_id][1], :2].detach().numpy().astype(np.int32)\n",
    "                # consider limb-confidence score as the minimum keypoint score among the two keypoint scores\n",
    "                limb_score = min(all_scores[person_id, limbs[limb_id][0]], all_scores[person_id, limbs[limb_id][1]])\n",
    "                # check if limb-score is greater than threshold\n",
    "                if limb_score> keypoint_threshold:\n",
    "                    # pick the color at a specific color-id\n",
    "                    color = tuple(np.asarray(cmap(colors[person_id])[:-1])*255)\n",
    "                    # draw the line for the limb\n",
    "                    draw = ImageDraw.Draw(img_copy)\n",
    "                    draw.line([tuple(limb_loc1), tuple(limb_loc2)], width=3)\n",
    "                    #cv2.line(img_copy, tuple(limb_loc1), tuple(limb_loc2), color, 3)\n",
    "\n",
    "    return img_copy\n"
   ]
  },
  {
   "cell_type": "code",
   "execution_count": 11,
   "metadata": {},
   "outputs": [],
   "source": [
    "# overlay the skeleton in the detected person\n",
    "skeletal_img = draw_skeleton_per_person(img, output[\"keypoints\"], output[\"keypoints_scores\"], output[\"scores\"],keypoint_threshold=2)\n",
    "skeletal_img.show()"
   ]
  }
 ],
 "metadata": {
  "interpreter": {
   "hash": "8edaa0ad9222e8c96a6d40a692b9449fd0931dfacd70139bd83c9f229167376e"
  },
  "kernelspec": {
   "display_name": "Python 3.8.12 64-bit ('skeleton-env': conda)",
   "language": "python",
   "name": "python3"
  },
  "language_info": {
   "codemirror_mode": {
    "name": "ipython",
    "version": 3
   },
   "file_extension": ".py",
   "mimetype": "text/x-python",
   "name": "python",
   "nbconvert_exporter": "python",
   "pygments_lexer": "ipython3",
   "version": "3.8.12"
  },
  "orig_nbformat": 4
 },
 "nbformat": 4,
 "nbformat_minor": 2
}
